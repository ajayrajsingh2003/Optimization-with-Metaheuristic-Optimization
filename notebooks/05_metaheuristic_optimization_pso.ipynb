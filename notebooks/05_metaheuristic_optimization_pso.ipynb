{
 "cells": [
  {
   "cell_type": "markdown",
   "id": "dde44aef-b5b1-46ac-a3bb-4ba7ffa2fd64",
   "metadata": {},
   "source": [
    "# Objective"
   ]
  },
  {
   "cell_type": "markdown",
   "id": "21163107-2b6c-4d60-b2f0-6fccbe88a08e",
   "metadata": {},
   "source": [
    "Optimize Logistic Regression hyperparameters using PSO and compare performance against GridSearchCV and baseline."
   ]
  },
  {
   "cell_type": "markdown",
   "id": "f3280d20-52e3-4bda-8ba7-f9324dc30b5b",
   "metadata": {},
   "source": [
    "**Why PSO?**\n",
    "- PSO is a population-based metaheuristic that explores the parameter space intelligently without exhaustive search, often reducing time complexity while finding near-optimal solutions."
   ]
  },
  {
   "cell_type": "markdown",
   "id": "11e87af3-4137-4d3c-80a9-90378a93ee60",
   "metadata": {},
   "source": [
    "`Import Libraries`"
   ]
  },
  {
   "cell_type": "code",
   "execution_count": 11,
   "id": "e3952b45-1279-4910-98c9-3d34cb636cb3",
   "metadata": {},
   "outputs": [],
   "source": [
    "import pandas as pd\n",
    "import numpy as np\n",
    "import time\n",
    "from sklearn.model_selection import train_test_split\n",
    "from sklearn.preprocessing import MinMaxScaler\n",
    "from sklearn.linear_model import LogisticRegression\n",
    "from sklearn.metrics import accuracy_score"
   ]
  },
  {
   "cell_type": "markdown",
   "id": "f0e07339-ebc1-4bb5-a41f-c0b7f44cad8b",
   "metadata": {},
   "source": [
    "`Load and Preprocess Dataset`"
   ]
  },
  {
   "cell_type": "code",
   "execution_count": 18,
   "id": "5153ced2-fa3b-496c-8357-7397e0a02980",
   "metadata": {},
   "outputs": [],
   "source": [
    "df = pd.read_csv('C:/Users/ajayr/Desktop/Projects to upload/Metaheuristic_Optimization_for_Logistic_Regression/data/data.csv')\n",
    "\n",
    "# Drop irrelevant columns\n",
    "if 'id' in df.columns:\n",
    "    df.drop(columns=['id'], inplace=True)\n",
    "\n",
    "# Encode target\n",
    "df['diagnosis'] = df['diagnosis'].map({'M': 1, 'B': 0})\n",
    "\n",
    "X = df.drop(columns=['diagnosis'])\n",
    "y = df['diagnosis']\n",
    "\n",
    "# Scale features\n",
    "scaler = MinMaxScaler()\n",
    "X_scaled = scaler.fit_transform(X)\n",
    "\n",
    "# Train-test split\n",
    "X_train, X_test, y_train, y_test = train_test_split(\n",
    "    X_scaled, y, test_size=0.2, random_state=42, stratify=y)"
   ]
  },
  {
   "cell_type": "markdown",
   "id": "b129e1c4-76e0-4b29-8170-7f2704c5c293",
   "metadata": {},
   "source": [
    "`Define Fitness Function`"
   ]
  },
  {
   "cell_type": "code",
   "execution_count": 21,
   "id": "4c8a096e-d641-4cd6-ba3d-f30ba281ebed",
   "metadata": {},
   "outputs": [],
   "source": [
    "def fitness_function(C_value):\n",
    "    # Build Logistic Regression model\n",
    "    model = LogisticRegression(C=C_value, max_iter=1000, solver='liblinear')\n",
    "    model.fit(X_train, y_train)\n",
    "    y_pred = model.predict(X_test)\n",
    "    return accuracy_score(y_test, y_pred)"
   ]
  },
  {
   "cell_type": "markdown",
   "id": "128d0d83-a080-4d7b-83c2-e28b4463bfc6",
   "metadata": {},
   "source": [
    "`Implement PSO`"
   ]
  },
  {
   "cell_type": "code",
   "execution_count": 30,
   "id": "b4eb0fb0-2308-4243-9d1e-8bc7d9ca4b18",
   "metadata": {},
   "outputs": [],
   "source": [
    "# PSO Parameters\n",
    "num_particles = 10\n",
    "num_iterations = 20\n",
    "w = 0.5  # inertia weight\n",
    "c1 = 1.5  # cognitive coefficient\n",
    "c2 = 1.5  # social coefficient\n",
    "\n",
    "# Search space for C\n",
    "lb, ub = 0.01, 100  # lower and upper bounds\n",
    "\n",
    "# Initialize particles\n",
    "particles = np.random.uniform(lb, ub, num_particles)\n",
    "velocities = np.zeros(num_particles)\n",
    "pbest_positions = particles.copy()\n",
    "pbest_scores = np.array([fitness_function(c) for c in particles])\n",
    "gbest_position = pbest_positions[np.argmax(pbest_scores)]\n",
    "gbest_score = max(pbest_scores)"
   ]
  },
  {
   "cell_type": "code",
   "execution_count": 32,
   "id": "5177c290-e5b7-4309-bcd5-c94a2860457d",
   "metadata": {},
   "outputs": [
    {
     "name": "stdout",
     "output_type": "stream",
     "text": [
      "Best C found by PSO: 19.9767\n",
      "Best Accuracy by PSO: 0.9825\n",
      "PSO Execution Time: 0.3285 seconds\n"
     ]
    }
   ],
   "source": [
    "# Measure execution time\n",
    "start_time = time.time()\n",
    "\n",
    "# PSO loop\n",
    "for i in range(num_iterations):\n",
    "    for j in range(num_particles):\n",
    "        r1, r2 = np.random.rand(), np.random.rand()\n",
    "        velocities[j] = (\n",
    "            w * velocities[j]\n",
    "            + c1 * r1 * (pbest_positions[j] - particles[j])\n",
    "            + c2 * r2 * (gbest_position - particles[j])\n",
    "        )\n",
    "        particles[j] += velocities[j]\n",
    "        # Clip within bounds\n",
    "        particles[j] = np.clip(particles[j], lb, ub)\n",
    "\n",
    "        # Evaluate fitness\n",
    "        score = fitness_function(particles[j])\n",
    "        if score > pbest_scores[j]:\n",
    "            pbest_positions[j] = particles[j]\n",
    "            pbest_scores[j] = score\n",
    "\n",
    "    # Update global best\n",
    "    best_idx = np.argmax(pbest_scores)\n",
    "    if pbest_scores[best_idx] > gbest_score:\n",
    "        gbest_score = pbest_scores[best_idx]\n",
    "        gbest_position = pbest_positions[best_idx]\n",
    "\n",
    "end_time = time.time()\n",
    "execution_time = end_time - start_time\n",
    "\n",
    "print(f\"Best C found by PSO: {gbest_position:.4f}\")\n",
    "print(f\"Best Accuracy by PSO: {gbest_score:.4f}\")\n",
    "print(f\"PSO Execution Time: {execution_time:.4f} seconds\")"
   ]
  },
  {
   "cell_type": "markdown",
   "id": "80f50e5d-81da-4d91-8da1-82ce428b26b6",
   "metadata": {},
   "source": [
    "# Conclusion"
   ]
  },
  {
   "cell_type": "markdown",
   "id": "a93c8809-03f5-4608-bad6-48ce93b78ac6",
   "metadata": {},
   "source": [
    "PSO outperformed both the baseline Logistic Regression and GridSearchCV in terms of accuracy while being extremely efficient in computation time. It found the optimal C value without an exhaustive parameter search, showcasing the strength of metaheuristic methods for hyperparameter tuning. This balance of accuracy (98.25%) and speed (0.3285 sec) makes PSO a compelling approach in scenarios where computational resources are limited but accuracy is critical."
   ]
  },
  {
   "cell_type": "markdown",
   "id": "28df5afe-0b65-4a76-be6e-7c7ec09674d1",
   "metadata": {},
   "source": [
    "# Summary"
   ]
  },
  {
   "cell_type": "markdown",
   "id": "e86c271b-528f-478a-a6c7-23198681b6eb",
   "metadata": {},
   "source": [
    "- Implemented **Particle Swarm Optimization (PSO)** to optimize Logistic Regression hyperparameter `C`.\n",
    "- **Best C:** 19.9767\n",
    "- **Accuracy:** 98.25% (improvement over baseline: 97% and GridSearchCV: 97.37%).\n",
    "- **Execution Time:** 0.3285 seconds (significantly faster than GridSearchCV).\n",
    "- **Insight:** PSO achieved the best accuracy so far with minimal time cost, proving its efficiency and capability for hyperparameter tuning.\n",
    "- **Next Step:** Apply **Ant Colony Optimization (ACO)**"
   ]
  },
  {
   "cell_type": "code",
   "execution_count": null,
   "id": "46441832-6674-46b8-9204-c3b0a3892c66",
   "metadata": {},
   "outputs": [],
   "source": []
  }
 ],
 "metadata": {
  "kernelspec": {
   "display_name": "Python [conda env:base] *",
   "language": "python",
   "name": "conda-base-py"
  },
  "language_info": {
   "codemirror_mode": {
    "name": "ipython",
    "version": 3
   },
   "file_extension": ".py",
   "mimetype": "text/x-python",
   "name": "python",
   "nbconvert_exporter": "python",
   "pygments_lexer": "ipython3",
   "version": "3.12.7"
  }
 },
 "nbformat": 4,
 "nbformat_minor": 5
}
