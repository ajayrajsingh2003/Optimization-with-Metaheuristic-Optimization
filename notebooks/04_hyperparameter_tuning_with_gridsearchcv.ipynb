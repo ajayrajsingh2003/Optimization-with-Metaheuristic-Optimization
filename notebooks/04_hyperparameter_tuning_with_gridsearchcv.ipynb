{
 "cells": [
  {
   "cell_type": "markdown",
   "id": "675b850c-f191-4a03-bb11-fb47964951b2",
   "metadata": {},
   "source": [
    "# Objective"
   ]
  },
  {
   "cell_type": "markdown",
   "id": "32544cde-1562-4245-90a6-d0b9ed3a033c",
   "metadata": {},
   "source": [
    "- Use GridSearchCV to optimize Logistic Regression hyperparameters (`C`, `penalty`, `solver`).\n",
    "- Compare performance against the baseline model.\n",
    "- Record execution time for analysis."
   ]
  },
  {
   "cell_type": "markdown",
   "id": "2759caae-d449-4d37-97d3-f0efd18b7a7e",
   "metadata": {},
   "source": [
    "**Why GridSearch?**\n",
    "- GridSearch systematically explores a predefined parameter grid using cross-validation to find the best combination."
   ]
  },
  {
   "cell_type": "markdown",
   "id": "69e16cb0-dd3c-4dfb-8cae-94cbc58951b7",
   "metadata": {},
   "source": [
    "`Import Libraries`"
   ]
  },
  {
   "cell_type": "code",
   "execution_count": 11,
   "id": "820a93e6-982d-4be4-a702-bc9c861b550c",
   "metadata": {},
   "outputs": [],
   "source": [
    "import pandas as pd\n",
    "import time\n",
    "from sklearn.model_selection import train_test_split, GridSearchCV\n",
    "from sklearn.preprocessing import MinMaxScaler\n",
    "from sklearn.linear_model import LogisticRegression\n",
    "from sklearn.metrics import accuracy_score, classification_report, confusion_matrix"
   ]
  },
  {
   "cell_type": "code",
   "execution_count": 13,
   "id": "bb361352-225a-4354-8805-911481b1ebc8",
   "metadata": {},
   "outputs": [],
   "source": [
    "# In Depth Ananlysis in File 02_Data_Preprocessing_and_Feature_Scaling for feature scaling and data preproxessing"
   ]
  },
  {
   "cell_type": "code",
   "execution_count": 15,
   "id": "cd97b551-08ec-465e-80c8-002e99ada55f",
   "metadata": {},
   "outputs": [],
   "source": [
    "# Load dataset\n",
    "df = pd.read_csv('C:/Users/ajayr/Desktop/Projects to upload/Metaheuristic_Optimization_for_Logistic_Regression/data/data.csv')\n",
    "\n",
    "# Drop irrelevant columns\n",
    "if 'id' in df.columns:\n",
    "    df.drop(columns=['id'], inplace=True)\n",
    "\n",
    "# Encode target variable\n",
    "df['diagnosis'] = df['diagnosis'].map({'M': 1, 'B': 0})\n",
    "\n",
    "# Split features and target\n",
    "X = df.drop(columns=['diagnosis'])\n",
    "y = df['diagnosis']\n",
    "\n",
    "# Normalize features using MinMaxScaler\n",
    "scaler = MinMaxScaler()\n",
    "X_scaled = scaler.fit_transform(X)"
   ]
  },
  {
   "cell_type": "code",
   "execution_count": 48,
   "id": "c8424536-ad37-4e1c-99af-d7e43d4a76af",
   "metadata": {},
   "outputs": [],
   "source": [
    "# Train-Test Split\n",
    "X_train, X_test, y_train, y_test = train_test_split(\n",
    "    X_scaled, y, test_size=0.2, random_state=42, stratify=y)"
   ]
  },
  {
   "cell_type": "markdown",
   "id": "fb3fd43b-f86f-458c-86fd-9a3a708abc7f",
   "metadata": {},
   "source": [
    "` Define Parameter Grid for Logistic Regression`"
   ]
  },
  {
   "cell_type": "code",
   "execution_count": 29,
   "id": "9c9634fc-d615-49fa-82ec-b226c5f3e4ee",
   "metadata": {},
   "outputs": [],
   "source": [
    "param_grid = {\n",
    "    'C': [0.01, 0.1, 1, 10, 100],\n",
    "    'penalty': ['l1', 'l2'],\n",
    "    'solver': ['liblinear', 'saga']\n",
    "}\n"
   ]
  },
  {
   "cell_type": "markdown",
   "id": "00c9f298-09cb-48ab-a233-cad5696ca233",
   "metadata": {
    "scrolled": true
   },
   "source": [
    "`Apply GridSearchCV and Measure Time`"
   ]
  },
  {
   "cell_type": "code",
   "execution_count": 32,
   "id": "d52b4ca2-aa37-465b-b052-2e467e904b25",
   "metadata": {},
   "outputs": [
    {
     "name": "stdout",
     "output_type": "stream",
     "text": [
      "GridSearchCV Training Time: 5.4559 seconds\n"
     ]
    }
   ],
   "source": [
    "# Initialize model\n",
    "log_reg = LogisticRegression(max_iter=1000, random_state=42)\n",
    "\n",
    "# Initialize GridSearchCV\n",
    "grid = GridSearchCV(estimator=log_reg, param_grid=param_grid, cv=5, scoring='accuracy', n_jobs=-1)\n",
    "\n",
    "# Measure execution time\n",
    "start_time = time.time()\n",
    "grid.fit(X_train, y_train)\n",
    "end_time = time.time()\n",
    "execution_time = end_time - start_time\n",
    "\n",
    "print(f\"GridSearchCV Training Time: {execution_time:.4f} seconds\")"
   ]
  },
  {
   "cell_type": "markdown",
   "id": "98b1619a-71ed-4c3b-a6ab-97b71b566e95",
   "metadata": {},
   "source": [
    "`Best Parameters and Model Performance`"
   ]
  },
  {
   "cell_type": "code",
   "execution_count": 35,
   "id": "3716b56d-49fe-452a-b913-ce02ec9d46d7",
   "metadata": {},
   "outputs": [
    {
     "name": "stdout",
     "output_type": "stream",
     "text": [
      "Best Parameters found by GridSearchCV: {'C': 100, 'penalty': 'l2', 'solver': 'liblinear'}\n",
      "Accuracy after GridSearchCV: 0.9737\n",
      "\n",
      "Classification Report:\n",
      "               precision    recall  f1-score   support\n",
      "\n",
      "           0       0.97      0.99      0.98        72\n",
      "           1       0.98      0.95      0.96        42\n",
      "\n",
      "    accuracy                           0.97       114\n",
      "   macro avg       0.97      0.97      0.97       114\n",
      "weighted avg       0.97      0.97      0.97       114\n",
      "\n",
      "\n",
      "Confusion Matrix:\n",
      " [[71  1]\n",
      " [ 2 40]]\n"
     ]
    }
   ],
   "source": [
    "# Best parameters\n",
    "print(\"Best Parameters found by GridSearchCV:\", grid.best_params_)\n",
    "\n",
    "# Predict using best estimator\n",
    "y_pred = grid.best_estimator_.predict(X_test)\n",
    "\n",
    "# Accuracy\n",
    "accuracy = accuracy_score(y_test, y_pred)\n",
    "print(f\"Accuracy after GridSearchCV: {accuracy:.4f}\")\n",
    "\n",
    "# Classification report\n",
    "print(\"\\nClassification Report:\\n\", classification_report(y_test, y_pred))\n",
    "\n",
    "# Confusion Matrix\n",
    "print(\"\\nConfusion Matrix:\\n\", confusion_matrix(y_test, y_pred))\n"
   ]
  },
  {
   "cell_type": "markdown",
   "id": "299a76e2-467a-4ccb-bc4c-9764b0a77d01",
   "metadata": {},
   "source": [
    "# Conclusion"
   ]
  },
  {
   "cell_type": "markdown",
   "id": "4e82ec68-6dfb-416c-bf1c-2c23a84f650b",
   "metadata": {},
   "source": [
    "The optimized Logistic Regression model using GridSearchCV achieved an accuracy of 97.37%, similar to the baseline but with a slight improvement in recall for malignant cases.\n",
    "Best Parameters: {'C': 100, 'penalty': 'l2', 'solver': 'liblinear'}\n",
    "Class 0 (Benign): Precision = 0.97, Recall = 0.99 → Almost all benign cases correctly classified.\n",
    "Class 1 (Malignant): Precision = 0.98, Recall = 0.95 → Slight improvement compared to baseline (recall was 0.93).\n",
    "Confusion Matrix: [[71, 1], [2, 40]] → Only 2 malignant cases missed (better than 3 previously).\n",
    "Insight: GridSearchCV improved recall slightly and confirmed that tuning hyperparameters can refine performance, but the overall accuracy gain is minimal compared to baseline."
   ]
  },
  {
   "cell_type": "markdown",
   "id": "9b7bb4ac-68dd-4f6b-9882-3b3d66afbda9",
   "metadata": {},
   "source": [
    "# Summary"
   ]
  },
  {
   "cell_type": "markdown",
   "id": "948a8219-fe63-4f52-bec3-ea52ff56d10a",
   "metadata": {},
   "source": [
    "- Implemented **GridSearchCV** to optimize Logistic Regression hyperparameters (`C`, `penalty`, `solver`).\n",
    "- **Best Parameters:** {'C': 100, 'penalty': 'l2', 'solver': 'liblinear'}.\n",
    "- **Accuracy:** 97.37% (similar to baseline but with improved recall for malignant cases).\n",
    "- **Class 1 (Malignant):** Recall improved from 0.93 (baseline) to 0.95 → fewer false negatives.\n",
    "- **Confusion Matrix:** [[71, 1], [2, 40]] → Only 2 malignant cases missed.\n",
    "- **Execution Time:** Slower than baseline (exact timing recorded separately).\n",
    "- **Insight:** Hyperparameter tuning refined model performance and confirmed the benefit of systematic search.\n",
    "- **Next Step:** Apply **metaheuristic optimization (PSO)** to explore non-grid search-based tuning for potential improvements."
   ]
  }
 ],
 "metadata": {
  "kernelspec": {
   "display_name": "Python [conda env:base] *",
   "language": "python",
   "name": "conda-base-py"
  },
  "language_info": {
   "codemirror_mode": {
    "name": "ipython",
    "version": 3
   },
   "file_extension": ".py",
   "mimetype": "text/x-python",
   "name": "python",
   "nbconvert_exporter": "python",
   "pygments_lexer": "ipython3",
   "version": "3.12.7"
  }
 },
 "nbformat": 4,
 "nbformat_minor": 5
}
