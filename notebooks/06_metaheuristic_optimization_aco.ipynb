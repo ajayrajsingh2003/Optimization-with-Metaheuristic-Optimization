{
 "cells": [
  {
   "cell_type": "markdown",
   "id": "9258c3a5-5c08-4cb3-b27b-fd0f0874b3da",
   "metadata": {},
   "source": [
    "# Objective"
   ]
  },
  {
   "cell_type": "markdown",
   "id": "9c708959-9234-472c-9785-518928cd0dab",
   "metadata": {},
   "source": [
    "Use ACO to optimize Logistic Regression hyperparameters (`C`) for the breast cancer classification dataset."
   ]
  },
  {
   "cell_type": "markdown",
   "id": "c8d0447f-0f48-48cb-a279-e365bb362c5b",
   "metadata": {},
   "source": [
    "**Why ACO?**\n",
    "- ACO is inspired by ant foraging behavior, where ants explore and deposit pheromones to find optimal paths. It’s well-suited for global optimization problems and can efficiently navigate large search spaces."
   ]
  },
  {
   "cell_type": "markdown",
   "id": "a72e344b-5433-4253-83b0-61d71fb3be80",
   "metadata": {},
   "source": [
    "`Import Libraries`\n"
   ]
  },
  {
   "cell_type": "code",
   "execution_count": 7,
   "id": "0182a7f8-777f-45ff-badc-7443f4664f08",
   "metadata": {},
   "outputs": [],
   "source": [
    "import pandas as pd\n",
    "import numpy as np\n",
    "import time\n",
    "from sklearn.model_selection import train_test_split\n",
    "from sklearn.preprocessing import MinMaxScaler\n",
    "from sklearn.linear_model import LogisticRegression\n",
    "from sklearn.metrics import accuracy_score\n"
   ]
  },
  {
   "cell_type": "markdown",
   "id": "2620a648-ba0c-457d-b769-fe2c84aca0ff",
   "metadata": {},
   "source": [
    "`Load and Preprocess Data`"
   ]
  },
  {
   "cell_type": "code",
   "execution_count": 11,
   "id": "bf3ade3e-e45a-432f-b136-ada79a473857",
   "metadata": {},
   "outputs": [],
   "source": [
    "df = pd.read_csv('C:/Users/ajayr/Desktop/Projects to upload/Metaheuristic_Optimization_for_Logistic_Regression/data/data.csv')\n",
    "\n",
    "# Drop irrelevant columns\n",
    "if 'id' in df.columns:\n",
    "    df.drop(columns=['id'], inplace=True)\n",
    "\n",
    "# Encode target\n",
    "df['diagnosis'] = df['diagnosis'].map({'M': 1, 'B': 0})\n",
    "\n",
    "X = df.drop(columns=['diagnosis'])\n",
    "y = df['diagnosis']\n",
    "\n",
    "# Scale features\n",
    "scaler = MinMaxScaler()\n",
    "X_scaled = scaler.fit_transform(X)\n",
    "\n",
    "# Train-test split\n",
    "X_train, X_test, y_train, y_test = train_test_split(\n",
    "    X_scaled, y, test_size=0.2, random_state=42, stratify=y)"
   ]
  },
  {
   "cell_type": "markdown",
   "id": "d81ef70d-d184-43e5-9bcc-8fab1efde0ac",
   "metadata": {},
   "source": [
    "`Define Fitness Function`"
   ]
  },
  {
   "cell_type": "code",
   "execution_count": 16,
   "id": "0b93ea84-ede8-45d9-aa2f-967c13d9a1df",
   "metadata": {},
   "outputs": [],
   "source": [
    "def fitness(C_value):\n",
    "    model = LogisticRegression(C=C_value, max_iter=1000, solver='liblinear')\n",
    "    model.fit(X_train, y_train)\n",
    "    y_pred = model.predict(X_test)\n",
    "    return accuracy_score(y_test, y_pred)"
   ]
  },
  {
   "cell_type": "markdown",
   "id": "6b772d3b-fe55-459b-b35c-1f1b1e3d7d04",
   "metadata": {},
   "source": [
    "`Implement ACO`"
   ]
  },
  {
   "cell_type": "code",
   "execution_count": 19,
   "id": "01561dc0-25cc-4289-802b-c0ca1b82d835",
   "metadata": {},
   "outputs": [],
   "source": [
    "# ACO Parameters\n",
    "num_ants = 10\n",
    "num_iterations = 20\n",
    "lb, ub = 0.01, 100\n",
    "evaporation_rate = 0.5\n",
    "pheromone = np.ones(10)  # initial pheromone levels for discretized choices\n",
    "discretized_C = np.linspace(lb, ub, 10)  # discretized search space"
   ]
  },
  {
   "cell_type": "code",
   "execution_count": 21,
   "id": "f36f142b-3ca0-438b-842b-7f9e0c19c986",
   "metadata": {},
   "outputs": [],
   "source": [
    "best_score = 0\n",
    "best_C = None\n",
    "\n",
    "start_time = time.time()\n",
    "\n",
    "for iteration in range(num_iterations):\n",
    "    ant_solutions = []\n",
    "    ant_scores = []\n",
    "    \n",
    "    for _ in range(num_ants):\n",
    "        # Probability distribution based on pheromone\n",
    "        probs = pheromone / pheromone.sum()\n",
    "        idx = np.random.choice(range(len(discretized_C)), p=probs)\n",
    "        C_value = discretized_C[idx]\n",
    "        \n",
    "        score = fitness(C_value)\n",
    "        ant_solutions.append(idx)\n",
    "        ant_scores.append(score)\n",
    "    \n",
    "    # Update pheromone based on scores\n",
    "    pheromone = (1 - evaporation_rate) * pheromone\n",
    "    for idx, score in zip(ant_solutions, ant_scores):\n",
    "        pheromone[idx] += score\n",
    "    \n",
    "    # Track best solution\n",
    "    max_idx = np.argmax(ant_scores)\n",
    "    if ant_scores[max_idx] > best_score:\n",
    "        best_score = ant_scores[max_idx]\n",
    "        best_C = discretized_C[ant_solutions[max_idx]]\n",
    "\n",
    "end_time = time.time()\n",
    "execution_time = end_time - start_time"
   ]
  },
  {
   "cell_type": "code",
   "execution_count": 23,
   "id": "119cd10b-a5c5-4026-b01f-2c7191927dcd",
   "metadata": {},
   "outputs": [
    {
     "name": "stdout",
     "output_type": "stream",
     "text": [
      "Best C found by ACO: 11.1200\n",
      "Best Accuracy by ACO: 0.9825\n",
      "ACO Execution Time: 0.3714 seconds\n"
     ]
    }
   ],
   "source": [
    "print(f\"Best C found by ACO: {best_C:.4f}\")\n",
    "print(f\"Best Accuracy by ACO: {best_score:.4f}\")\n",
    "print(f\"ACO Execution Time: {execution_time:.4f} seconds\")"
   ]
  },
  {
   "cell_type": "markdown",
   "id": "139ba386-d024-4d9f-a5f4-fbf1198f825d",
   "metadata": {},
   "source": [
    "# Conclusion"
   ]
  },
  {
   "cell_type": "markdown",
   "id": "e246a404-ed7b-4790-88df-fafd2c5ed80e",
   "metadata": {},
   "source": [
    "The Ant Colony Optimization approach delivered 98.25% accuracy, matching PSO’s performance and outperforming both the baseline Logistic Regression (97%) and GridSearchCV (97.37%). With an execution time of 0.3714 seconds, ACO proved both accurate and efficient, making it an excellent alternative for hyperparameter optimization when computational speed is a priority. Compared to GridSearchCV, ACO avoids exhaustive search and finds near-optimal solutions quickly, showcasing the power of metaheuristic algorithms in real-world machine learning workflows."
   ]
  },
  {
   "cell_type": "markdown",
   "id": "556c2b45-b47f-4ccc-87ad-f86f71be7498",
   "metadata": {},
   "source": [
    "# Summary"
   ]
  },
  {
   "cell_type": "markdown",
   "id": "edba1238-12d6-4a2a-9531-94324b305f41",
   "metadata": {},
   "source": [
    "- Implemented **Ant Colony Optimization (ACO)** to optimize Logistic Regression hyperparameter `C`.\n",
    "- **Best C:** 11.1200\n",
    "- **Accuracy:** 98.25% (same as PSO and higher than GridSearchCV).\n",
    "- **Execution Time:** 0.3714 seconds (much faster than GridSearchCV and close to PSO).\n",
    "- **Insight:** ACO demonstrated excellent accuracy with efficient execution, reinforcing the effectiveness of metaheuristic optimization for hyperparameter tuning."
   ]
  },
  {
   "cell_type": "code",
   "execution_count": null,
   "id": "6552eb0f-a8fa-4b96-a1cd-52695f4bc8bf",
   "metadata": {},
   "outputs": [],
   "source": []
  }
 ],
 "metadata": {
  "kernelspec": {
   "display_name": "Python [conda env:base] *",
   "language": "python",
   "name": "conda-base-py"
  },
  "language_info": {
   "codemirror_mode": {
    "name": "ipython",
    "version": 3
   },
   "file_extension": ".py",
   "mimetype": "text/x-python",
   "name": "python",
   "nbconvert_exporter": "python",
   "pygments_lexer": "ipython3",
   "version": "3.12.7"
  }
 },
 "nbformat": 4,
 "nbformat_minor": 5
}
