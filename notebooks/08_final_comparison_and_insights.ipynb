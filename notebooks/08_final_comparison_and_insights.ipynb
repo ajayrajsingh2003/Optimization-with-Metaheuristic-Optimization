{
 "cells": [
  {
   "cell_type": "markdown",
   "id": "faea2d0e-1aa5-4eaf-823d-0537b5d036f8",
   "metadata": {},
   "source": [
    "# Final Report"
   ]
  },
  {
   "cell_type": "markdown",
   "id": "81ab049e-346b-404c-addc-5db0dd78bc30",
   "metadata": {},
   "source": [
    "`Final Comparison of Optimization Approaches`"
   ]
  },
  {
   "cell_type": "markdown",
   "id": "7c966141-1ca0-4deb-a21f-4d7a6f37e0e0",
   "metadata": {},
   "source": [
    "| Approach                              | Best C    | Accuracy | Execution Time (sec) |\n",
    "|--------------------------------------|-----------|----------|-----------------------|\n",
    "| Logistic Regression (Baseline)      | 1.0       | 0.9700   | 0.0287              |\n",
    "| GridSearchCV                         | 100       | 0.9737   | 1.2530              |\n",
    "| PSO (Global Search)                 | 17.9527   | 0.9825   | 0.4369              |\n",
    "| ACO (Global Search)                 | 11.1200   | 0.9825   | 0.3877              |\n",
    "| Hybrid ACO + GridSearchCV           | 9.12      | 0.9800   | 0.0635 (+ 0.3877)   |\n",
    "| Hybrid PSO + GridSearchCV           | 15.95     | 0.9800   | 0.0710 (+ 0.4369)   |"
   ]
  },
  {
   "cell_type": "markdown",
   "id": "9051aaca-1eb6-46b5-9e8b-d90c3c5f8d98",
   "metadata": {},
   "source": [
    "**Insights**\n",
    "- **Baseline Logistic Regression**: Fast (0.0287 sec) but limited tuning ability.\n",
    "- **GridSearchCV**: Slight accuracy improvement, but **high cost (1.253 sec)**.\n",
    "- **Metaheuristics (PSO & ACO)**: Both achieved **98.25% accuracy** in under 0.45 sec, proving efficient.\n",
    "- **Hybrid Approaches**:  \n",
    "  - Maintained **high accuracy (~98%)**.\n",
    "  - Added **robustness and stability** in tuning.\n",
    "  - Minimal extra time for refinement (<0.08 sec beyond metaheuristic step).\n",
    "- **Time Hierarchy**: Baseline < Hybrid < PSO ≈ ACO << GridSearchCV."
   ]
  },
  {
   "cell_type": "markdown",
   "id": "41844d45-7d18-41aa-8a71-a59b0591d34e",
   "metadata": {},
   "source": [
    "# Conclusion"
   ]
  },
  {
   "cell_type": "markdown",
   "id": "a7a65056-271f-4a1b-9ca6-56635e291189",
   "metadata": {},
   "source": [
    "`Metaheuristic methods (PSO, ACO) outperform traditional GridSearchCV in both **accuracy** and **speed**, making them highly suitable for practical scenarios. **Hybrid approaches** combine global exploration and precise local refinement, adding methodological strength and interpretability for research-driven projects.`"
   ]
  }
 ],
 "metadata": {
  "kernelspec": {
   "display_name": "Python [conda env:base] *",
   "language": "python",
   "name": "conda-base-py"
  },
  "language_info": {
   "codemirror_mode": {
    "name": "ipython",
    "version": 3
   },
   "file_extension": ".py",
   "mimetype": "text/x-python",
   "name": "python",
   "nbconvert_exporter": "python",
   "pygments_lexer": "ipython3",
   "version": "3.12.7"
  }
 },
 "nbformat": 4,
 "nbformat_minor": 5
}
